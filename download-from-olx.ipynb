{
 "cells": [
  {
   "cell_type": "code",
   "execution_count": 4,
   "metadata": {
    "collapsed": true
   },
   "outputs": [
    {
     "name": "stdout",
     "output_type": "stream",
     "text": [
      "1\n",
      "2\n",
      "3\n",
      "4\n",
      "5\n",
      "6\n",
      "7\n",
      "8\n",
      "9\n",
      "10\n",
      "11\n",
      "12\n",
      "13\n",
      "14\n",
      "15\n",
      "16\n",
      "17\n",
      "18\n",
      "19\n",
      "20\n",
      "21\n",
      "22\n",
      "23\n",
      "24\n",
      "25\n"
     ]
    },
    {
     "data": {
      "text/plain": "         id_                                   url       price  \\\n0  867924477  https://www.olx.co.id/item/867924477  2500000000   \n1  859227780  https://www.olx.co.id/item/859227780  4000000000   \n2  825483212  https://www.olx.co.id/item/825483212   690000000   \n3  867879586  https://www.olx.co.id/item/867879586  3800000000   \n4  869005448  https://www.olx.co.id/item/869005448   424000038   \n\n                                               title  \\\n0                               Jual Rumah Ilir-Ilir   \n1           Dijual rumah nyaman dan lokasi strategis   \n2          Rumah dijual jalan godean dalam ring road   \n3             Jual rumah secepatnya. Bisa nego dulu.   \n4  Harga 400 Jutaan, Rumah Siap Huni Dekat Ringro...   \n\n                                         description         district  \\\n0  Rumah dengan lokasi di lingkungan kampus UGM d...      Sleman Kab.   \n1  Lokasi strategis, jalan dua arah, furnished, g...      Sleman Kab.   \n2  DIJUAL CEPAT!! HARGA YG TERTERA TIDAK UNTUK PE...      Sleman Kab.   \n3  Tanah dan bangunan serta dijual secepatnya. Fa...      Sleman Kab.   \n4  Rumah Minimalis Berlokasi di Bantul Yogyakarta...  Yogyakarta Kota   \n\n  sub_district    user_id                                             images  \\\n0        Depok    1441245  [https://apollo-singapore.akamaized.net:443/v1...   \n1      Ngaglik  111109904  [https://apollo-singapore.akamaized.net:443/v1...   \n2      Gamping  115007344  [https://apollo-singapore.akamaized.net:443/v1...   \n3      Ngaglik   90595802  [https://apollo-singapore.akamaized.net:443/v1...   \n4   Umbulharjo   92483130  [https://apollo-singapore.akamaized.net:443/v1...   \n\n  sqr_building sqr_land bedroom  \n0          164      221       7  \n1          347      415       7  \n2           95      109       3  \n3          307      307       5  \n4           45       75       2  ",
      "text/html": "<div>\n<style scoped>\n    .dataframe tbody tr th:only-of-type {\n        vertical-align: middle;\n    }\n\n    .dataframe tbody tr th {\n        vertical-align: top;\n    }\n\n    .dataframe thead th {\n        text-align: right;\n    }\n</style>\n<table border=\"1\" class=\"dataframe\">\n  <thead>\n    <tr style=\"text-align: right;\">\n      <th></th>\n      <th>id_</th>\n      <th>url</th>\n      <th>price</th>\n      <th>title</th>\n      <th>description</th>\n      <th>district</th>\n      <th>sub_district</th>\n      <th>user_id</th>\n      <th>images</th>\n      <th>sqr_building</th>\n      <th>sqr_land</th>\n      <th>bedroom</th>\n    </tr>\n  </thead>\n  <tbody>\n    <tr>\n      <th>0</th>\n      <td>867924477</td>\n      <td>https://www.olx.co.id/item/867924477</td>\n      <td>2500000000</td>\n      <td>Jual Rumah Ilir-Ilir</td>\n      <td>Rumah dengan lokasi di lingkungan kampus UGM d...</td>\n      <td>Sleman Kab.</td>\n      <td>Depok</td>\n      <td>1441245</td>\n      <td>[https://apollo-singapore.akamaized.net:443/v1...</td>\n      <td>164</td>\n      <td>221</td>\n      <td>7</td>\n    </tr>\n    <tr>\n      <th>1</th>\n      <td>859227780</td>\n      <td>https://www.olx.co.id/item/859227780</td>\n      <td>4000000000</td>\n      <td>Dijual rumah nyaman dan lokasi strategis</td>\n      <td>Lokasi strategis, jalan dua arah, furnished, g...</td>\n      <td>Sleman Kab.</td>\n      <td>Ngaglik</td>\n      <td>111109904</td>\n      <td>[https://apollo-singapore.akamaized.net:443/v1...</td>\n      <td>347</td>\n      <td>415</td>\n      <td>7</td>\n    </tr>\n    <tr>\n      <th>2</th>\n      <td>825483212</td>\n      <td>https://www.olx.co.id/item/825483212</td>\n      <td>690000000</td>\n      <td>Rumah dijual jalan godean dalam ring road</td>\n      <td>DIJUAL CEPAT!! HARGA YG TERTERA TIDAK UNTUK PE...</td>\n      <td>Sleman Kab.</td>\n      <td>Gamping</td>\n      <td>115007344</td>\n      <td>[https://apollo-singapore.akamaized.net:443/v1...</td>\n      <td>95</td>\n      <td>109</td>\n      <td>3</td>\n    </tr>\n    <tr>\n      <th>3</th>\n      <td>867879586</td>\n      <td>https://www.olx.co.id/item/867879586</td>\n      <td>3800000000</td>\n      <td>Jual rumah secepatnya. Bisa nego dulu.</td>\n      <td>Tanah dan bangunan serta dijual secepatnya. Fa...</td>\n      <td>Sleman Kab.</td>\n      <td>Ngaglik</td>\n      <td>90595802</td>\n      <td>[https://apollo-singapore.akamaized.net:443/v1...</td>\n      <td>307</td>\n      <td>307</td>\n      <td>5</td>\n    </tr>\n    <tr>\n      <th>4</th>\n      <td>869005448</td>\n      <td>https://www.olx.co.id/item/869005448</td>\n      <td>424000038</td>\n      <td>Harga 400 Jutaan, Rumah Siap Huni Dekat Ringro...</td>\n      <td>Rumah Minimalis Berlokasi di Bantul Yogyakarta...</td>\n      <td>Yogyakarta Kota</td>\n      <td>Umbulharjo</td>\n      <td>92483130</td>\n      <td>[https://apollo-singapore.akamaized.net:443/v1...</td>\n      <td>45</td>\n      <td>75</td>\n      <td>2</td>\n    </tr>\n  </tbody>\n</table>\n</div>"
     },
     "execution_count": 4,
     "metadata": {},
     "output_type": "execute_result"
    }
   ],
   "source": [
    "from typing import List\n",
    "from dataclasses import dataclass\n",
    "import pandas as pd\n",
    "import requests\n",
    "\n",
    "\n",
    "def get_olx(page: int) -> list:\n",
    "    params = (\n",
    "        ('category', '5158'),\n",
    "        ('facet_limit', '100'),\n",
    "        ('location', '2000032'),\n",
    "        ('location_facet_limit', '20'),\n",
    "        ('page', page),\n",
    "        ('platform', 'web-desktop'),\n",
    "        ('spellcheck', 'true'),\n",
    "        ('user', '17a332855b1x1e446ba'),\n",
    "\n",
    "    )\n",
    "\n",
    "    response = requests.get('https://www.olx.co.id/api/relevance/v2/search', params=params, headers={\n",
    "        'User-Agent': 'Mozilla/5.0 (Windows NT 10.0; Win64; x64; rv:61.0) Gecko/20100101 Firefox/61.0',\n",
    "        'Accept': 'application/json',\n",
    "        'Accept-Language': 'en-USen;q=0.5',\n",
    "        'Accept-Encoding': 'gzip,deflate br',\n",
    "        'Connection': 'keep-alive',\n",
    "        'x-nba-stats-origin': 'stats',\n",
    "        'x-nba-stats-token': 'true'\n",
    "    })\n",
    "\n",
    "    if response.status_code != 200:\n",
    "        return []\n",
    "\n",
    "    return response.json()[\"data\"]\n",
    "\n",
    "\n",
    "@dataclass\n",
    "class Home:\n",
    "    id_: str\n",
    "    url: str\n",
    "    price: int\n",
    "    title: str\n",
    "    description: str\n",
    "    district: str\n",
    "    sub_district: str\n",
    "    user_id: int\n",
    "    images: List[str]\n",
    "    sqr_building: int\n",
    "    sqr_land: int\n",
    "    bedroom: int\n",
    "\n",
    "\n",
    "def get_data() -> pd.DataFrame:\n",
    "    homes = []\n",
    "\n",
    "    i = 0\n",
    "    while True:\n",
    "        ads_raw = get_olx(i)\n",
    "        if not ads_raw:\n",
    "            break\n",
    "\n",
    "        for ad in ads_raw:\n",
    "            id_ = ad[\"id\"]\n",
    "            url = f'https://www.olx.co.id/item/{ad[\"id\"]}'\n",
    "            price = int(ad[\"price\"][\"value\"][\"raw\"])\n",
    "            title = ad[\"title\"]\n",
    "            description = ad[\"description\"]\n",
    "            district = ad[\"locations_resolved\"][\"ADMIN_LEVEL_3_name\"]\n",
    "            sub_district = ad[\"locations_resolved\"][\"SUBLOCALITY_LEVEL_1_name\"]\n",
    "            user_id = int(ad[\"user_id\"])\n",
    "            images = [i[\"url\"] for i in ad[\"images\"]]\n",
    "\n",
    "            sqr_building = [p for p in ad[\"parameters\"] if p[\"key\"] == \"p_sqr_building\"][0][\"value\"]\n",
    "            sqr_land = [p for p in ad[\"parameters\"] if p[\"key\"] == \"p_sqr_land\"][0][\"value\"]\n",
    "            bedroom = [p for p in ad[\"parameters\"] if p[\"key\"] == \"p_bedroom\"][0][\"value\"]\n",
    "\n",
    "            homes.append(\n",
    "                Home(\n",
    "                    id_=id_,\n",
    "                    url=url,\n",
    "                    price=price,\n",
    "                    title=title,\n",
    "                    description=description,\n",
    "                    district=district,\n",
    "                    sub_district=sub_district,\n",
    "                    user_id=user_id,\n",
    "                    images=images,\n",
    "                    sqr_building=sqr_building,\n",
    "                    sqr_land=sqr_land,\n",
    "                    bedroom=bedroom,\n",
    "                )\n",
    "            )\n",
    "\n",
    "        i += 1\n",
    "\n",
    "    return pd.DataFrame(homes)\n",
    "\n",
    "\n",
    "df = get_data()\n",
    "df.head()"
   ]
  },
  {
   "cell_type": "code",
   "execution_count": 5,
   "outputs": [],
   "source": [
    "df.to_csv(\"rumah.csv\", index=False)"
   ],
   "metadata": {
    "collapsed": false,
    "pycharm": {
     "name": "#%%\n"
    }
   }
  },
  {
   "cell_type": "code",
   "execution_count": null,
   "outputs": [],
   "source": [],
   "metadata": {
    "collapsed": false,
    "pycharm": {
     "name": "#%%\n"
    }
   }
  }
 ],
 "metadata": {
  "kernelspec": {
   "display_name": "Python 3",
   "language": "python",
   "name": "python3"
  },
  "language_info": {
   "codemirror_mode": {
    "name": "ipython",
    "version": 2
   },
   "file_extension": ".py",
   "mimetype": "text/x-python",
   "name": "python",
   "nbconvert_exporter": "python",
   "pygments_lexer": "ipython2",
   "version": "2.7.6"
  }
 },
 "nbformat": 4,
 "nbformat_minor": 0
}