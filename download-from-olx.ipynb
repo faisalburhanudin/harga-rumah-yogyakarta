{
 "cells": [
  {
   "cell_type": "code",
   "execution_count": 1,
   "metadata": {
    "collapsed": true
   },
   "outputs": [
    {
     "data": {
      "text/plain": "         id_                                   url       price  \\\n0  861566104  https://www.olx.co.id/item/861566104   325000000   \n1  863964536  https://www.olx.co.id/item/863964536  7000000000   \n2  868786628  https://www.olx.co.id/item/868786628  3000000000   \n3  867739657  https://www.olx.co.id/item/867739657   445000000   \n4  774615563  https://www.olx.co.id/item/774615563  1250000000   \n\n                                               title  \\\n0                            Rumah murah berkualitas   \n1             Jual cepat rumah besar di Pandega Asih   \n2          Dijual Cepat Rumah Murah Lokasi Strategis   \n3  Dijual Rumah 400jt an 3 kmr tidur dalam perum ...   \n4  Dijual Rumah Dekat Kampus UGM Jalan Sulaesi Ut...   \n\n                                         description     district  \\\n0  Rumah siap bangun.lokasi di perkampungan padat...  Sleman Kab.   \n1  Jual cepat\\nRumah besar dan nyaman di Pandega ...  Sleman Kab.   \n2  Dijual Cepat Rumah Murah sangat bagus untuk In...  Sleman Kab.   \n3  Perumahan Selo Permata Asri\\n\\nLingkungan Asri...  Sleman Kab.   \n4  RUMAH DI JUAL BELAKANG INUL FIESTA KARAOKE\\r\\n...  Sleman Kab.   \n\n  sub_district    user_id                                             images  \\\n0        Depok    8235968  [https://apollo-singapore.akamaized.net:443/v1...   \n1        Depok   28759832  [https://apollo-singapore.akamaized.net:443/v1...   \n2        Depok   39954330  [https://apollo-singapore.akamaized.net:443/v1...   \n3    Prambanan  117741327  [https://apollo-singapore.akamaized.net:443/v1...   \n4        Mlati   58188085  [https://apollo-singapore.akamaized.net:443/v1...   \n\n  sqr_building sqr_land bedroom  \n0           45       91       2  \n1          800      624       5  \n2          266      278       7  \n3           95      101       3  \n4          130      134       3  ",
      "text/html": "<div>\n<style scoped>\n    .dataframe tbody tr th:only-of-type {\n        vertical-align: middle;\n    }\n\n    .dataframe tbody tr th {\n        vertical-align: top;\n    }\n\n    .dataframe thead th {\n        text-align: right;\n    }\n</style>\n<table border=\"1\" class=\"dataframe\">\n  <thead>\n    <tr style=\"text-align: right;\">\n      <th></th>\n      <th>id_</th>\n      <th>url</th>\n      <th>price</th>\n      <th>title</th>\n      <th>description</th>\n      <th>district</th>\n      <th>sub_district</th>\n      <th>user_id</th>\n      <th>images</th>\n      <th>sqr_building</th>\n      <th>sqr_land</th>\n      <th>bedroom</th>\n    </tr>\n  </thead>\n  <tbody>\n    <tr>\n      <th>0</th>\n      <td>861566104</td>\n      <td>https://www.olx.co.id/item/861566104</td>\n      <td>325000000</td>\n      <td>Rumah murah berkualitas</td>\n      <td>Rumah siap bangun.lokasi di perkampungan padat...</td>\n      <td>Sleman Kab.</td>\n      <td>Depok</td>\n      <td>8235968</td>\n      <td>[https://apollo-singapore.akamaized.net:443/v1...</td>\n      <td>45</td>\n      <td>91</td>\n      <td>2</td>\n    </tr>\n    <tr>\n      <th>1</th>\n      <td>863964536</td>\n      <td>https://www.olx.co.id/item/863964536</td>\n      <td>7000000000</td>\n      <td>Jual cepat rumah besar di Pandega Asih</td>\n      <td>Jual cepat\\nRumah besar dan nyaman di Pandega ...</td>\n      <td>Sleman Kab.</td>\n      <td>Depok</td>\n      <td>28759832</td>\n      <td>[https://apollo-singapore.akamaized.net:443/v1...</td>\n      <td>800</td>\n      <td>624</td>\n      <td>5</td>\n    </tr>\n    <tr>\n      <th>2</th>\n      <td>868786628</td>\n      <td>https://www.olx.co.id/item/868786628</td>\n      <td>3000000000</td>\n      <td>Dijual Cepat Rumah Murah Lokasi Strategis</td>\n      <td>Dijual Cepat Rumah Murah sangat bagus untuk In...</td>\n      <td>Sleman Kab.</td>\n      <td>Depok</td>\n      <td>39954330</td>\n      <td>[https://apollo-singapore.akamaized.net:443/v1...</td>\n      <td>266</td>\n      <td>278</td>\n      <td>7</td>\n    </tr>\n    <tr>\n      <th>3</th>\n      <td>867739657</td>\n      <td>https://www.olx.co.id/item/867739657</td>\n      <td>445000000</td>\n      <td>Dijual Rumah 400jt an 3 kmr tidur dalam perum ...</td>\n      <td>Perumahan Selo Permata Asri\\n\\nLingkungan Asri...</td>\n      <td>Sleman Kab.</td>\n      <td>Prambanan</td>\n      <td>117741327</td>\n      <td>[https://apollo-singapore.akamaized.net:443/v1...</td>\n      <td>95</td>\n      <td>101</td>\n      <td>3</td>\n    </tr>\n    <tr>\n      <th>4</th>\n      <td>774615563</td>\n      <td>https://www.olx.co.id/item/774615563</td>\n      <td>1250000000</td>\n      <td>Dijual Rumah Dekat Kampus UGM Jalan Sulaesi Ut...</td>\n      <td>RUMAH DI JUAL BELAKANG INUL FIESTA KARAOKE\\r\\n...</td>\n      <td>Sleman Kab.</td>\n      <td>Mlati</td>\n      <td>58188085</td>\n      <td>[https://apollo-singapore.akamaized.net:443/v1...</td>\n      <td>130</td>\n      <td>134</td>\n      <td>3</td>\n    </tr>\n  </tbody>\n</table>\n</div>"
     },
     "execution_count": 1,
     "metadata": {},
     "output_type": "execute_result"
    }
   ],
   "source": [
    "from typing import List\n",
    "from dataclasses import dataclass\n",
    "import pandas as pd\n",
    "import requests\n",
    "\n",
    "\n",
    "def get_olx(page: int) -> list:\n",
    "    params = (\n",
    "        ('category', '5158'),\n",
    "        ('facet_limit', '100'),\n",
    "        ('location', '2000032'),\n",
    "        ('location_facet_limit', '20'),\n",
    "        ('page', page),\n",
    "        ('platform', 'web-desktop'),\n",
    "        ('spellcheck', 'true'),\n",
    "        ('user', '17a332855b1x1e446ba'),\n",
    "\n",
    "    )\n",
    "\n",
    "    response = requests.get('https://www.olx.co.id/api/relevance/v2/search', params=params, headers={\n",
    "        'User-Agent': 'Mozilla/5.0 (Windows NT 10.0; Win64; x64; rv:61.0) Gecko/20100101 Firefox/61.0',\n",
    "        'Accept': 'application/json',\n",
    "        'Accept-Language': 'en-USen;q=0.5',\n",
    "        'Accept-Encoding': 'gzip,deflate br',\n",
    "        'Connection': 'keep-alive',\n",
    "        'x-nba-stats-origin': 'stats',\n",
    "        'x-nba-stats-token': 'true'\n",
    "    })\n",
    "\n",
    "    if response.status_code != 200:\n",
    "        return []\n",
    "\n",
    "    return response.json()[\"data\"]\n",
    "\n",
    "\n",
    "@dataclass\n",
    "class Home:\n",
    "    id_: str\n",
    "    url: str\n",
    "    price: int\n",
    "    title: str\n",
    "    description: str\n",
    "    district: str\n",
    "    sub_district: str\n",
    "    user_id: int\n",
    "    images: List[str]\n",
    "    sqr_building: int\n",
    "    sqr_land: int\n",
    "    bedroom: int\n",
    "\n",
    "\n",
    "def get_data() -> pd.DataFrame:\n",
    "    homes = []\n",
    "\n",
    "    i = 0\n",
    "    while True:\n",
    "        ads_raw = get_olx(i)\n",
    "        if not ads_raw:\n",
    "            break\n",
    "\n",
    "        for ad in ads_raw:\n",
    "            id_ = ad[\"id\"]\n",
    "            url = f'https://www.olx.co.id/item/{ad[\"id\"]}'\n",
    "            price = int(ad[\"price\"][\"value\"][\"raw\"])\n",
    "            title = ad[\"title\"]\n",
    "            description = ad[\"description\"]\n",
    "            district = ad[\"locations_resolved\"][\"ADMIN_LEVEL_3_name\"]\n",
    "            sub_district = ad[\"locations_resolved\"][\"SUBLOCALITY_LEVEL_1_name\"]\n",
    "            user_id = int(ad[\"user_id\"])\n",
    "            images = [i[\"url\"] for i in ad[\"images\"]]\n",
    "\n",
    "            sqr_building = [p for p in ad[\"parameters\"] if p[\"key\"] == \"p_sqr_building\"][0][\"value\"]\n",
    "            sqr_land = [p for p in ad[\"parameters\"] if p[\"key\"] == \"p_sqr_land\"][0][\"value\"]\n",
    "            bedroom = [p for p in ad[\"parameters\"] if p[\"key\"] == \"p_bedroom\"][0][\"value\"]\n",
    "\n",
    "            homes.append(\n",
    "                Home(\n",
    "                    id_=id_,\n",
    "                    url=url,\n",
    "                    price=price,\n",
    "                    title=title,\n",
    "                    description=description,\n",
    "                    district=district,\n",
    "                    sub_district=sub_district,\n",
    "                    user_id=user_id,\n",
    "                    images=images,\n",
    "                    sqr_building=sqr_building,\n",
    "                    sqr_land=sqr_land,\n",
    "                    bedroom=bedroom,\n",
    "                )\n",
    "            )\n",
    "\n",
    "        i += 1\n",
    "\n",
    "    return pd.DataFrame(homes)\n",
    "\n",
    "\n",
    "df = get_data()\n",
    "df.head()"
   ]
  },
  {
   "cell_type": "code",
   "execution_count": 2,
   "outputs": [],
   "source": [
    "df.to_csv(\"rumah.csv\", index=False)"
   ],
   "metadata": {
    "collapsed": false,
    "pycharm": {
     "name": "#%%\n"
    }
   }
  },
  {
   "cell_type": "code",
   "execution_count": null,
   "outputs": [],
   "source": [],
   "metadata": {
    "collapsed": false,
    "pycharm": {
     "name": "#%%\n"
    }
   }
  }
 ],
 "metadata": {
  "kernelspec": {
   "display_name": "Python 3",
   "language": "python",
   "name": "python3"
  },
  "language_info": {
   "codemirror_mode": {
    "name": "ipython",
    "version": 2
   },
   "file_extension": ".py",
   "mimetype": "text/x-python",
   "name": "python",
   "nbconvert_exporter": "python",
   "pygments_lexer": "ipython2",
   "version": "2.7.6"
  }
 },
 "nbformat": 4,
 "nbformat_minor": 0
}