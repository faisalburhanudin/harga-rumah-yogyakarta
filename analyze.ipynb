{
 "cells": [
  {
   "cell_type": "code",
   "execution_count": 28,
   "metadata": {
    "collapsed": true
   },
   "outputs": [
    {
     "data": {
      "text/plain": "         id_                                   url       price  \\\n0  867924477  https://www.olx.co.id/item/867924477  2500000000   \n1  859227780  https://www.olx.co.id/item/859227780  4000000000   \n2  825483212  https://www.olx.co.id/item/825483212   690000000   \n3  867879586  https://www.olx.co.id/item/867879586  3800000000   \n4  869005448  https://www.olx.co.id/item/869005448   424000038   \n\n                                               title  \\\n0                               Jual Rumah Ilir-Ilir   \n1           Dijual rumah nyaman dan lokasi strategis   \n2          Rumah dijual jalan godean dalam ring road   \n3             Jual rumah secepatnya. Bisa nego dulu.   \n4  Harga 400 Jutaan, Rumah Siap Huni Dekat Ringro...   \n\n                                         description         district  \\\n0  Rumah dengan lokasi di lingkungan kampus UGM d...      Sleman Kab.   \n1  Lokasi strategis, jalan dua arah, furnished, g...      Sleman Kab.   \n2  DIJUAL CEPAT!! HARGA YG TERTERA TIDAK UNTUK PE...      Sleman Kab.   \n3  Tanah dan bangunan serta dijual secepatnya. Fa...      Sleman Kab.   \n4  Rumah Minimalis Berlokasi di Bantul Yogyakarta...  Yogyakarta Kota   \n\n  sub_district    user_id                                             images  \\\n0        Depok    1441245  ['https://apollo-singapore.akamaized.net:443/v...   \n1      Ngaglik  111109904  ['https://apollo-singapore.akamaized.net:443/v...   \n2      Gamping  115007344  ['https://apollo-singapore.akamaized.net:443/v...   \n3      Ngaglik   90595802  ['https://apollo-singapore.akamaized.net:443/v...   \n4   Umbulharjo   92483130  ['https://apollo-singapore.akamaized.net:443/v...   \n\n   sqr_building  sqr_land  bedroom  \n0           164       221        7  \n1           347       415        7  \n2            95       109        3  \n3           307       307        5  \n4            45        75        2  ",
      "text/html": "<div>\n<style scoped>\n    .dataframe tbody tr th:only-of-type {\n        vertical-align: middle;\n    }\n\n    .dataframe tbody tr th {\n        vertical-align: top;\n    }\n\n    .dataframe thead th {\n        text-align: right;\n    }\n</style>\n<table border=\"1\" class=\"dataframe\">\n  <thead>\n    <tr style=\"text-align: right;\">\n      <th></th>\n      <th>id_</th>\n      <th>url</th>\n      <th>price</th>\n      <th>title</th>\n      <th>description</th>\n      <th>district</th>\n      <th>sub_district</th>\n      <th>user_id</th>\n      <th>images</th>\n      <th>sqr_building</th>\n      <th>sqr_land</th>\n      <th>bedroom</th>\n    </tr>\n  </thead>\n  <tbody>\n    <tr>\n      <th>0</th>\n      <td>867924477</td>\n      <td>https://www.olx.co.id/item/867924477</td>\n      <td>2500000000</td>\n      <td>Jual Rumah Ilir-Ilir</td>\n      <td>Rumah dengan lokasi di lingkungan kampus UGM d...</td>\n      <td>Sleman Kab.</td>\n      <td>Depok</td>\n      <td>1441245</td>\n      <td>['https://apollo-singapore.akamaized.net:443/v...</td>\n      <td>164</td>\n      <td>221</td>\n      <td>7</td>\n    </tr>\n    <tr>\n      <th>1</th>\n      <td>859227780</td>\n      <td>https://www.olx.co.id/item/859227780</td>\n      <td>4000000000</td>\n      <td>Dijual rumah nyaman dan lokasi strategis</td>\n      <td>Lokasi strategis, jalan dua arah, furnished, g...</td>\n      <td>Sleman Kab.</td>\n      <td>Ngaglik</td>\n      <td>111109904</td>\n      <td>['https://apollo-singapore.akamaized.net:443/v...</td>\n      <td>347</td>\n      <td>415</td>\n      <td>7</td>\n    </tr>\n    <tr>\n      <th>2</th>\n      <td>825483212</td>\n      <td>https://www.olx.co.id/item/825483212</td>\n      <td>690000000</td>\n      <td>Rumah dijual jalan godean dalam ring road</td>\n      <td>DIJUAL CEPAT!! HARGA YG TERTERA TIDAK UNTUK PE...</td>\n      <td>Sleman Kab.</td>\n      <td>Gamping</td>\n      <td>115007344</td>\n      <td>['https://apollo-singapore.akamaized.net:443/v...</td>\n      <td>95</td>\n      <td>109</td>\n      <td>3</td>\n    </tr>\n    <tr>\n      <th>3</th>\n      <td>867879586</td>\n      <td>https://www.olx.co.id/item/867879586</td>\n      <td>3800000000</td>\n      <td>Jual rumah secepatnya. Bisa nego dulu.</td>\n      <td>Tanah dan bangunan serta dijual secepatnya. Fa...</td>\n      <td>Sleman Kab.</td>\n      <td>Ngaglik</td>\n      <td>90595802</td>\n      <td>['https://apollo-singapore.akamaized.net:443/v...</td>\n      <td>307</td>\n      <td>307</td>\n      <td>5</td>\n    </tr>\n    <tr>\n      <th>4</th>\n      <td>869005448</td>\n      <td>https://www.olx.co.id/item/869005448</td>\n      <td>424000038</td>\n      <td>Harga 400 Jutaan, Rumah Siap Huni Dekat Ringro...</td>\n      <td>Rumah Minimalis Berlokasi di Bantul Yogyakarta...</td>\n      <td>Yogyakarta Kota</td>\n      <td>Umbulharjo</td>\n      <td>92483130</td>\n      <td>['https://apollo-singapore.akamaized.net:443/v...</td>\n      <td>45</td>\n      <td>75</td>\n      <td>2</td>\n    </tr>\n  </tbody>\n</table>\n</div>"
     },
     "execution_count": 28,
     "metadata": {},
     "output_type": "execute_result"
    }
   ],
   "source": [
    "import pandas as pd\n",
    "\n",
    "df = pd.read_csv(\"rumah.csv\")\n",
    "df.head()"
   ]
  },
  {
   "cell_type": "markdown",
   "source": [
    "# Remove outlier"
   ],
   "metadata": {
    "collapsed": false
   }
  },
  {
   "cell_type": "code",
   "execution_count": 29,
   "outputs": [],
   "source": [
    "# hapus rumah di bawah 200jt\n",
    "df = df[df[\"price\"] > 200_000_000]"
   ],
   "metadata": {
    "collapsed": false,
    "pycharm": {
     "name": "#%%\n"
    }
   }
  },
  {
   "cell_type": "markdown",
   "source": [
    "# Berapa banyak rumah yang di jual tiap provinsi?"
   ],
   "metadata": {
    "collapsed": false
   }
  },
  {
   "cell_type": "code",
   "execution_count": 30,
   "outputs": [
    {
     "data": {
      "text/plain": "district\nSleman Kab.         268\nYogyakarta Kota     109\nBantul Kab.         106\nKulon Progo Kab.      4\nName: id_, dtype: int64"
     },
     "execution_count": 30,
     "metadata": {},
     "output_type": "execute_result"
    }
   ],
   "source": [
    "df.groupby(\"district\")[\"id_\"].count().sort_values(ascending=False)"
   ],
   "metadata": {
    "collapsed": false,
    "pycharm": {
     "name": "#%%\n"
    }
   }
  },
  {
   "cell_type": "markdown",
   "source": [
    "# Rumah paling mahal\n",
    "lebih tepatnya bukan rumah mungkin ya, property paling mahal"
   ],
   "metadata": {
    "collapsed": false
   }
  },
  {
   "cell_type": "code",
   "execution_count": 31,
   "outputs": [
    {
     "data": {
      "text/plain": "id_                                                     869003592\nurl                          https://www.olx.co.id/item/869003592\nprice                                                 28000000000\ntitle                         Dijual Rumah+Ruang Usaha Yogyakarta\ndescription     Luas Tanah 1069m2\\t\\nLuas Bangunan 1000m2\\t\\t ...\ndistrict                                          Yogyakarta Kota\nsub_district                                          Mantrijeron\nuser_id                                                 117478590\nimages          ['https://apollo-singapore.akamaized.net:443/v...\nsqr_building                                                 1000\nsqr_land                                                     1069\nbedroom                                                         6\nName: 27, dtype: object"
     },
     "execution_count": 31,
     "metadata": {},
     "output_type": "execute_result"
    }
   ],
   "source": [
    "df.sort_values([\"price\"], ascending=False).iloc[0]"
   ],
   "metadata": {
    "collapsed": false,
    "pycharm": {
     "name": "#%%\n"
    }
   }
  },
  {
   "cell_type": "markdown",
   "source": [
    "# Rumah paling murah"
   ],
   "metadata": {
    "collapsed": false
   }
  },
  {
   "cell_type": "code",
   "execution_count": 32,
   "outputs": [
    {
     "data": {
      "text/plain": "id_                                                     868977609\nurl                          https://www.olx.co.id/item/868977609\nprice                                                   229600000\ntitle               Rumah Modern Air Jernih Dekat Raminten Resort\ndescription     Rumah Modern Air Jernih Dekat Raminten Resort\\...\ndistrict                                         Kulon Progo Kab.\nsub_district                                            Nanggulan\nuser_id                                                  95399418\nimages          ['https://apollo-singapore.akamaized.net:443/v...\nsqr_building                                                   40\nsqr_land                                                      122\nbedroom                                                         2\nName: 412, dtype: object"
     },
     "execution_count": 32,
     "metadata": {},
     "output_type": "execute_result"
    }
   ],
   "source": [
    "df.sort_values([\"price\"]).iloc[0]"
   ],
   "metadata": {
    "collapsed": false,
    "pycharm": {
     "name": "#%%\n"
    }
   }
  },
  {
   "cell_type": "markdown",
   "source": [
    "wuh masih ada ternyata rumah 200 jutaan di yogyakarta, tapi rumahnya blm ada.\n",
    "Hopefully bukan scam ya..."
   ],
   "metadata": {
    "collapsed": false
   }
  },
  {
   "cell_type": "markdown",
   "source": [
    "# Harga rumah keluarga kecil\n",
    "spesifikasi:\n",
    "- kamar 3\n",
    "- maksimal tanah 150 meter persegi\n",
    "- minimal tanah 70 meter persegi"
   ],
   "metadata": {
    "collapsed": false
   }
  },
  {
   "cell_type": "code",
   "execution_count": 57,
   "outputs": [
    {
     "data": {
      "text/plain": "           id_                                   url       price  \\\n113  868994152  https://www.olx.co.id/item/868994152   650000000   \n115  868994129  https://www.olx.co.id/item/868994129   630000000   \n122  852738594  https://www.olx.co.id/item/852738594   630000000   \n133  868992733  https://www.olx.co.id/item/868992733  1074000000   \n182  866723031  https://www.olx.co.id/item/866723031   600000000   \n243  868189444  https://www.olx.co.id/item/868189444   500000000   \n320  865365848  https://www.olx.co.id/item/865365848   550500000   \n341  861766947  https://www.olx.co.id/item/861766947   700000000   \n363  866793185  https://www.olx.co.id/item/866793185   630000000   \n401  867838194  https://www.olx.co.id/item/867838194   760000000   \n\n                                                 title  \\\n113  Dijual Apartemen Yudhistira Mataram City Jogja...   \n115  Jual Cepat BU   Studio Apartemen Mataram City ...   \n122      Unit Studio Apartemen Mataram City Yogyakarta   \n133  Apartemen Mewah Pertamina Jual Murah Unit Terb...   \n182  Dijual MURAH!Khusus Bulan Juli Apartemen Yudhi...   \n243  DP 30% Langsung Huni Atau Disewakan, 10 Menit ...   \n320  Apartemen Mataram City Tower Arjuna Dengan Kon...   \n341                               Apartment Yudhistira   \n363  Jual Cepat BU ! Studio Apartemen Mataram City ...   \n401    Rumah villa pondok permai giwangan with bathtub   \n\n                                           description     district  \\\n113  Apartemen Yudhistira Mataram City  Unit Siap H...  Sleman Kab.   \n115  Yudhistira Apartemen Mataram City Jogja Tipe S...  Sleman Kab.   \n122  Apartemen Tipe Studio\\nUkuran 34m2\\n\\nUnit kos...  Sleman Kab.   \n133  Patraland Amarta Apartment Tower Yudhistira\\n\\...  Sleman Kab.   \n182  Apartemen Yudhistira Mataram City\\nLuas Unit 3...  Sleman Kab.   \n243  Hidup dalam harmoni dengan sentuhan alam. \\n\\n...  Sleman Kab.   \n320  Apartemen mewah di Yogyakarta dengan konsep Me...  Sleman Kab.   \n341                 Full furnish lantai 17 view Merapi  Sleman Kab.   \n363  Yudhistira Apartemen Mataram City Jogja\\nTipe ...  Sleman Kab.   \n401  Dijual murah rumah villa\\n5 menit dari termina...  Bantul Kab.   \n\n    sub_district    user_id  \\\n113        Mlati  102222531   \n115        Mlati  102222531   \n122        Depok   62947422   \n133      Ngaglik  120960833   \n182      Ngaglik   66426111   \n243        Depok    6202902   \n320      Ngaglik   96051446   \n341      Ngaglik  106503211   \n363      Ngaglik   62947422   \n401       Pleret  100505821   \n\n                                                images  sqr_building  \\\n113  ['https://apollo-singapore.akamaized.net:443/v...            34   \n115  ['https://apollo-singapore.akamaized.net:443/v...            34   \n122  ['https://apollo-singapore.akamaized.net:443/v...            34   \n133  ['https://apollo-singapore.akamaized.net:443/v...            45   \n182  ['https://apollo-singapore.akamaized.net:443/v...            34   \n243  ['https://apollo-singapore.akamaized.net:443/v...            24   \n320  ['https://apollo-singapore.akamaized.net:443/v...            34   \n341  ['https://apollo-singapore.akamaized.net:443/v...            36   \n363  ['https://apollo-singapore.akamaized.net:443/v...            34   \n401  ['https://apollo-singapore.akamaized.net:443/v...           118   \n\n     sqr_land  bedroom  \n113         0        1  \n115         0        1  \n122        34        1  \n133      6370        1  \n182        34        1  \n243        29        1  \n320     31000        1  \n341        36        1  \n363        34        1  \n401        80        1  ",
      "text/html": "<div>\n<style scoped>\n    .dataframe tbody tr th:only-of-type {\n        vertical-align: middle;\n    }\n\n    .dataframe tbody tr th {\n        vertical-align: top;\n    }\n\n    .dataframe thead th {\n        text-align: right;\n    }\n</style>\n<table border=\"1\" class=\"dataframe\">\n  <thead>\n    <tr style=\"text-align: right;\">\n      <th></th>\n      <th>id_</th>\n      <th>url</th>\n      <th>price</th>\n      <th>title</th>\n      <th>description</th>\n      <th>district</th>\n      <th>sub_district</th>\n      <th>user_id</th>\n      <th>images</th>\n      <th>sqr_building</th>\n      <th>sqr_land</th>\n      <th>bedroom</th>\n    </tr>\n  </thead>\n  <tbody>\n    <tr>\n      <th>113</th>\n      <td>868994152</td>\n      <td>https://www.olx.co.id/item/868994152</td>\n      <td>650000000</td>\n      <td>Dijual Apartemen Yudhistira Mataram City Jogja...</td>\n      <td>Apartemen Yudhistira Mataram City  Unit Siap H...</td>\n      <td>Sleman Kab.</td>\n      <td>Mlati</td>\n      <td>102222531</td>\n      <td>['https://apollo-singapore.akamaized.net:443/v...</td>\n      <td>34</td>\n      <td>0</td>\n      <td>1</td>\n    </tr>\n    <tr>\n      <th>115</th>\n      <td>868994129</td>\n      <td>https://www.olx.co.id/item/868994129</td>\n      <td>630000000</td>\n      <td>Jual Cepat BU   Studio Apartemen Mataram City ...</td>\n      <td>Yudhistira Apartemen Mataram City Jogja Tipe S...</td>\n      <td>Sleman Kab.</td>\n      <td>Mlati</td>\n      <td>102222531</td>\n      <td>['https://apollo-singapore.akamaized.net:443/v...</td>\n      <td>34</td>\n      <td>0</td>\n      <td>1</td>\n    </tr>\n    <tr>\n      <th>122</th>\n      <td>852738594</td>\n      <td>https://www.olx.co.id/item/852738594</td>\n      <td>630000000</td>\n      <td>Unit Studio Apartemen Mataram City Yogyakarta</td>\n      <td>Apartemen Tipe Studio\\nUkuran 34m2\\n\\nUnit kos...</td>\n      <td>Sleman Kab.</td>\n      <td>Depok</td>\n      <td>62947422</td>\n      <td>['https://apollo-singapore.akamaized.net:443/v...</td>\n      <td>34</td>\n      <td>34</td>\n      <td>1</td>\n    </tr>\n    <tr>\n      <th>133</th>\n      <td>868992733</td>\n      <td>https://www.olx.co.id/item/868992733</td>\n      <td>1074000000</td>\n      <td>Apartemen Mewah Pertamina Jual Murah Unit Terb...</td>\n      <td>Patraland Amarta Apartment Tower Yudhistira\\n\\...</td>\n      <td>Sleman Kab.</td>\n      <td>Ngaglik</td>\n      <td>120960833</td>\n      <td>['https://apollo-singapore.akamaized.net:443/v...</td>\n      <td>45</td>\n      <td>6370</td>\n      <td>1</td>\n    </tr>\n    <tr>\n      <th>182</th>\n      <td>866723031</td>\n      <td>https://www.olx.co.id/item/866723031</td>\n      <td>600000000</td>\n      <td>Dijual MURAH!Khusus Bulan Juli Apartemen Yudhi...</td>\n      <td>Apartemen Yudhistira Mataram City\\nLuas Unit 3...</td>\n      <td>Sleman Kab.</td>\n      <td>Ngaglik</td>\n      <td>66426111</td>\n      <td>['https://apollo-singapore.akamaized.net:443/v...</td>\n      <td>34</td>\n      <td>34</td>\n      <td>1</td>\n    </tr>\n    <tr>\n      <th>243</th>\n      <td>868189444</td>\n      <td>https://www.olx.co.id/item/868189444</td>\n      <td>500000000</td>\n      <td>DP 30% Langsung Huni Atau Disewakan, 10 Menit ...</td>\n      <td>Hidup dalam harmoni dengan sentuhan alam. \\n\\n...</td>\n      <td>Sleman Kab.</td>\n      <td>Depok</td>\n      <td>6202902</td>\n      <td>['https://apollo-singapore.akamaized.net:443/v...</td>\n      <td>24</td>\n      <td>29</td>\n      <td>1</td>\n    </tr>\n    <tr>\n      <th>320</th>\n      <td>865365848</td>\n      <td>https://www.olx.co.id/item/865365848</td>\n      <td>550500000</td>\n      <td>Apartemen Mataram City Tower Arjuna Dengan Kon...</td>\n      <td>Apartemen mewah di Yogyakarta dengan konsep Me...</td>\n      <td>Sleman Kab.</td>\n      <td>Ngaglik</td>\n      <td>96051446</td>\n      <td>['https://apollo-singapore.akamaized.net:443/v...</td>\n      <td>34</td>\n      <td>31000</td>\n      <td>1</td>\n    </tr>\n    <tr>\n      <th>341</th>\n      <td>861766947</td>\n      <td>https://www.olx.co.id/item/861766947</td>\n      <td>700000000</td>\n      <td>Apartment Yudhistira</td>\n      <td>Full furnish lantai 17 view Merapi</td>\n      <td>Sleman Kab.</td>\n      <td>Ngaglik</td>\n      <td>106503211</td>\n      <td>['https://apollo-singapore.akamaized.net:443/v...</td>\n      <td>36</td>\n      <td>36</td>\n      <td>1</td>\n    </tr>\n    <tr>\n      <th>363</th>\n      <td>866793185</td>\n      <td>https://www.olx.co.id/item/866793185</td>\n      <td>630000000</td>\n      <td>Jual Cepat BU ! Studio Apartemen Mataram City ...</td>\n      <td>Yudhistira Apartemen Mataram City Jogja\\nTipe ...</td>\n      <td>Sleman Kab.</td>\n      <td>Ngaglik</td>\n      <td>62947422</td>\n      <td>['https://apollo-singapore.akamaized.net:443/v...</td>\n      <td>34</td>\n      <td>34</td>\n      <td>1</td>\n    </tr>\n    <tr>\n      <th>401</th>\n      <td>867838194</td>\n      <td>https://www.olx.co.id/item/867838194</td>\n      <td>760000000</td>\n      <td>Rumah villa pondok permai giwangan with bathtub</td>\n      <td>Dijual murah rumah villa\\n5 menit dari termina...</td>\n      <td>Bantul Kab.</td>\n      <td>Pleret</td>\n      <td>100505821</td>\n      <td>['https://apollo-singapore.akamaized.net:443/v...</td>\n      <td>118</td>\n      <td>80</td>\n      <td>1</td>\n    </tr>\n  </tbody>\n</table>\n</div>"
     },
     "execution_count": 57,
     "metadata": {},
     "output_type": "execute_result"
    }
   ],
   "source": [
    "small_house = df[\n",
    "    df[\"bedroom\"] == 3 &\n",
    "    (\n",
    "            (df[\"sqr_land\"] <= 150) | (df[\"sqr_land\"] >= 70)\n",
    "    )\n",
    "]\n",
    "small_house[\"\"]"
   ],
   "metadata": {
    "collapsed": false,
    "pycharm": {
     "name": "#%%\n"
    }
   }
  },
  {
   "cell_type": "code",
   "execution_count": 55,
   "outputs": [
    {
     "name": "stdout",
     "output_type": "stream",
     "text": [
      "mean: 672,450,000\n",
      "median: 630,000,000\n"
     ]
    }
   ],
   "source": [
    "mean = int(small_house[\"price\"].mean())\n",
    "median = int(small_house[\"price\"].median())\n",
    "\n",
    "print(f\"mean: {mean:,}\")\n",
    "print(f\"median: {median:,}\")"
   ],
   "metadata": {
    "collapsed": false,
    "pycharm": {
     "name": "#%%\n"
    }
   }
  },
  {
   "cell_type": "code",
   "execution_count": null,
   "outputs": [],
   "source": [],
   "metadata": {
    "collapsed": false,
    "pycharm": {
     "name": "#%%\n"
    }
   }
  }
 ],
 "metadata": {
  "kernelspec": {
   "display_name": "Python 3",
   "language": "python",
   "name": "python3"
  },
  "language_info": {
   "codemirror_mode": {
    "name": "ipython",
    "version": 2
   },
   "file_extension": ".py",
   "mimetype": "text/x-python",
   "name": "python",
   "nbconvert_exporter": "python",
   "pygments_lexer": "ipython2",
   "version": "2.7.6"
  }
 },
 "nbformat": 4,
 "nbformat_minor": 0
}